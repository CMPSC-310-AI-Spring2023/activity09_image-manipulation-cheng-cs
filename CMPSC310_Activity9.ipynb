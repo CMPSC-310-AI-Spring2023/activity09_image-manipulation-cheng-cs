{
  "nbformat": 4,
  "nbformat_minor": 0,
  "metadata": {
    "colab": {
      "provenance": [],
      "include_colab_link": true
    },
    "kernelspec": {
      "name": "python3",
      "display_name": "Python 3"
    },
    "language_info": {
      "name": "python"
    }
  },
  "cells": [
    {
      "cell_type": "markdown",
      "metadata": {
        "id": "view-in-github",
        "colab_type": "text"
      },
      "source": [
        "<a href=\"https://colab.research.google.com/github/CMPSC-310-AI-Spring2023/activity09_image-manipulation-cheng-cs/blob/main/CMPSC310_Activity9.ipynb\" target=\"_parent\"><img src=\"https://colab.research.google.com/assets/colab-badge.svg\" alt=\"Open In Colab\"/></a>"
      ]
    },
    {
      "cell_type": "markdown",
      "source": [
        "# **Activity 9: Image Manipulation **\n"
      ],
      "metadata": {
        "id": "vcrrIOhGjS0Z"
      }
    },
    {
      "cell_type": "code",
      "source": [
        "import numpy as np\n",
        "import cv2\n"
      ],
      "metadata": {
        "id": "qiLelFBSGiWz"
      },
      "execution_count": null,
      "outputs": []
    },
    {
      "cell_type": "code",
      "source": [
        "rect = np.zeros((300,300), dtype=\"uint8\")\n",
        "cv2.rectangle(rect, (25,25), (275,275), 255, -1)\n",
        "cv2.imwrite(\"bitwise/Rectangle.png\", rect)"
      ],
      "metadata": {
        "colab": {
          "base_uri": "https://localhost:8080/"
        },
        "id": "4pjBZmXvGlmG",
        "outputId": "2ee6a405-b721-4f91-9c62-d254724ac07d"
      },
      "execution_count": null,
      "outputs": [
        {
          "output_type": "execute_result",
          "data": {
            "text/plain": [
              "False"
            ]
          },
          "metadata": {},
          "execution_count": 2
        }
      ]
    },
    {
      "cell_type": "code",
      "source": [
        "circ = np.zeros((300,300), dtype=\"uint8\")\n",
        "cv2.circle(circ, (150,150), 150, 255, -1)\n",
        "cv2.imwrite(\"bitwise/Circle.png\", circ)\n"
      ],
      "metadata": {
        "colab": {
          "base_uri": "https://localhost:8080/"
        },
        "id": "XAYQAo6rGpw1",
        "outputId": "69b04be6-887a-4666-cb35-acf459aa7e1c"
      },
      "execution_count": null,
      "outputs": [
        {
          "output_type": "execute_result",
          "data": {
            "text/plain": [
              "False"
            ]
          },
          "metadata": {},
          "execution_count": 3
        }
      ]
    },
    {
      "cell_type": "code",
      "source": [
        "bitwiseAnd = cv2.bitwise_and(rect, circ)\n",
        "cv2.imwrite(\"bitwise/AND.png\", bitwiseAnd)"
      ],
      "metadata": {
        "colab": {
          "base_uri": "https://localhost:8080/"
        },
        "id": "p3__MfDyGrwp",
        "outputId": "b3323225-d149-429d-8c55-9e9cf7b9ca45"
      },
      "execution_count": null,
      "outputs": [
        {
          "output_type": "execute_result",
          "data": {
            "text/plain": [
              "False"
            ]
          },
          "metadata": {},
          "execution_count": 4
        }
      ]
    },
    {
      "cell_type": "code",
      "source": [
        "bitwiseOr = cv2.bitwise_or(rect, circ)\n",
        "cv2.imwrite(\"bitwise/OR.png\", bitwiseOr)"
      ],
      "metadata": {
        "colab": {
          "base_uri": "https://localhost:8080/"
        },
        "id": "8umEJoyxGt_9",
        "outputId": "e09a1585-d024-46e7-b552-4ef69131e454"
      },
      "execution_count": null,
      "outputs": [
        {
          "output_type": "execute_result",
          "data": {
            "text/plain": [
              "False"
            ]
          },
          "metadata": {},
          "execution_count": 5
        }
      ]
    },
    {
      "cell_type": "code",
      "source": [
        "bitwiseXor = cv2.bitwise_xor(rect, circ)\n",
        "cv2.imwrite(\"bitwise/XOR.png\", bitwiseXor)"
      ],
      "metadata": {
        "colab": {
          "base_uri": "https://localhost:8080/"
        },
        "id": "BxO4OyxTGwZw",
        "outputId": "7d475ec8-e7a8-4bc1-e5c0-82c34882c772"
      },
      "execution_count": null,
      "outputs": [
        {
          "output_type": "execute_result",
          "data": {
            "text/plain": [
              "False"
            ]
          },
          "metadata": {},
          "execution_count": 6
        }
      ]
    },
    {
      "cell_type": "code",
      "source": [
        "bitwiseNot = cv2.bitwise_not(rect, circ)\n",
        "cv2.imwrite(\"bitwise/NOT.png\", bitwiseNot)"
      ],
      "metadata": {
        "colab": {
          "base_uri": "https://localhost:8080/"
        },
        "id": "R8llxUviGyU9",
        "outputId": "ce796178-a105-4e13-917e-d901be796c81"
      },
      "execution_count": null,
      "outputs": [
        {
          "output_type": "execute_result",
          "data": {
            "text/plain": [
              "False"
            ]
          },
          "metadata": {},
          "execution_count": 7
        }
      ]
    },
    {
      "cell_type": "code",
      "source": [
        "image = cv2.imread(\"images/flint1.jpg\")\n",
        "print(image)\n",
        "\n",
        "mask = np.zeros(image.shape[:2], dtype=\"uint8\")"
      ],
      "metadata": {
        "id": "ZR_sfMDMG6hd"
      },
      "execution_count": null,
      "outputs": []
    },
    {
      "cell_type": "code",
      "source": [
        "from google.colab import drive \n",
        "drive.mount('/content/drive')\n",
        "\n",
        "Mounted at /content/drive"
      ],
      "metadata": {
        "id": "jk9dMjRmG-80"
      },
      "execution_count": null,
      "outputs": []
    },
    {
      "cell_type": "code",
      "source": [
        "import numpy as np \n",
        "\n",
        "import cv2\n",
        "image = csv.imread(\"folder_path\")\n",
        "\n",
        "print(image.shape)\n",
        "mask = np.zeros(image.shape[:2]), dtype=\"uint8\"\n",
        "\n",
        "(cX,Cy) = (image.shape[1])\n",
        "\n",
        "cv2.rectangle(mask,(cX - 75, cY - 75 ), (cX + 75, cY + 75 ), 255, - 1)\n",
        "\n",
        "cv2.inwrite(\"msk1.png\", mask)\n",
        "masked = cv2.bitwise_and(image,image, mask=mask)\n",
        "cv2.inwrite(\"msk1.png\", mask)\n",
        "\n",
        "\n",
        "print(image.shape)\n",
        "mask = np.zeros(image.shape[:2]), dtype=\"uint8\"\n",
        "\n",
        "(cX,Cy) = (image.shape[1])\n",
        "\n",
        "cv2.circle(mask,(cX - 75, cY - 75 ), 100, 255, - 1)\n",
        "\n",
        "cv2.imwrite(\"msk1.png\", mask2)\n",
        "masked = cv2.bitwise_and(image,image, mask=mask)\n",
        "cv2.imwrite(\"msk1.png\", mask2)\n",
        "\n",
        "gray = cv2.cvtColor(masked, cv2.COLOR_BGR@GRAY)\n",
        "cv2.imwrite(\"gray.png\", gray)"
      ],
      "metadata": {
        "id": "jjZLMKBXeGF6"
      },
      "execution_count": null,
      "outputs": []
    },
    {
      "cell_type": "code",
      "source": [
        "import numpy as np \n",
        "\n",
        "import cv2\n",
        "image = csv.imread(\"folder_path\")\n",
        "\n",
        "print(image.shape)\n",
        "mask = np.zeros(image.shape[:2]), dtype=\"uint8\"\n",
        "\n",
        "(cX,Cy) = (image.shape[1])\n",
        "\n",
        "cv2.rectangle(mask,(cX - 75, cY - 75 ), (cX + 3000, cY + 1200), 255, - 1)\n",
        "\n",
        "cv2.inwrite(\"mask.png\", mask)\n",
        "masked = cv2.bitwise_and(image,image, mask=mask)\n",
        "cv2.inwrite(\"mask.png\", mask)\n",
        "\n",
        "\n",
        "print(image.shape)\n",
        "mask = np.zeros(image.shape[:2]), dtype=\"uint8\"\n",
        "\n",
        "(cX,Cy) = (image.shape[1])\n",
        "\n",
        "cv2.circle(mask,(cX - 75, cY - 75 ), 100, 255, - 1)\n",
        "\n",
        "cv2.imwrite(\"msk1.png\", mask2)\n",
        "masked = cv2.bitwise_and(image,image, mask=mask)\n",
        "cv2.imwrite(\"msk1.png\", mask2)\n",
        "\n",
        "gray = cv2.cvtColor(masked, cv2.COLOR_BGR@GRAY)\n",
        "cv2.imwrite(\"gray.png\", gray)"
      ],
      "metadata": {
        "id": "zxkgwgsFilJs"
      },
      "execution_count": null,
      "outputs": []
    }
  ]
}